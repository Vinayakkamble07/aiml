{
 "cells": [
  {
   "cell_type": "code",
   "execution_count": 1,
   "id": "d976ed92",
   "metadata": {},
   "outputs": [
    {
     "name": "stdout",
     "output_type": "stream",
     "text": [
      "   sepal-length  sepal-width  petal-length  petal-width\n",
      "0           5.1          3.5           1.4          0.2\n",
      "1           4.9          3.0           1.4          0.2\n",
      "2           4.7          3.2           1.3          0.2\n",
      "3           4.6          3.1           1.5          0.2\n",
      "4           5.0          3.6           1.4          0.2\n",
      "\n",
      "----------------------------------------------------------------\n",
      "Original Label            Predicted Label           Correct/Wrong            \n",
      "------------------------------------------------------------------\n",
      "Iris-virginica            Iris-virginica            Correct                  \n",
      "Iris-setosa               Iris-virginica            Wrong                    \n",
      "Iris-setosa               Iris-virginica            Wrong                    \n",
      "Iris-virginica            Iris-virginica            Correct                  \n",
      "Iris-virginica            Iris-virginica            Correct                  \n",
      "Iris-setosa               Iris-virginica            Wrong                    \n",
      "Iris-setosa               Iris-virginica            Wrong                    \n",
      "Iris-setosa               Iris-virginica            Wrong                    \n",
      "Iris-versicolor           Iris-virginica            Wrong                    \n",
      "Iris-virginica            Iris-virginica            Correct                  \n",
      "Iris-virginica            Iris-virginica            Correct                  \n",
      "Iris-virginica            Iris-virginica            Correct                  \n",
      "Iris-setosa               Iris-virginica            Wrong                    \n",
      "Iris-versicolor           Iris-virginica            Wrong                    \n",
      "Iris-versicolor           Iris-virginica            Wrong                    \n",
      "------------------------------------------------------------------\n",
      "\n",
      "Confusion Matrix:\n",
      " [[6 0 0]\n",
      " [0 2 1]\n",
      " [0 0 6]]\n",
      "------------------------------------------------------------------\n",
      "\n",
      "Classification Report:\n",
      "                  precision    recall  f1-score   support\n",
      "\n",
      "    Iris-setosa       1.00      1.00      1.00         6\n",
      "Iris-versicolor       1.00      0.67      0.80         3\n",
      " Iris-virginica       0.86      1.00      0.92         6\n",
      "\n",
      "       accuracy                           0.93        15\n",
      "      macro avg       0.95      0.89      0.91        15\n",
      "   weighted avg       0.94      0.93      0.93        15\n",
      "\n",
      "------------------------------------------------------------------\n",
      "Accuracy of the classifer is 0.93\n",
      "------------------------------------------------------------------\n"
     ]
    },
    {
     "name": "stderr",
     "output_type": "stream",
     "text": [
      "C:\\Users\\Asus\\anaconda3\\lib\\site-packages\\sklearn\\neighbors\\_classification.py:228: FutureWarning: Unlike other reduction functions (e.g. `skew`, `kurtosis`), the default behavior of `mode` typically preserves the axis it acts along. In SciPy 1.11.0, this behavior will change: the default value of `keepdims` will become False, the `axis` over which the statistic is taken will be eliminated, and the value None will no longer be accepted. Set `keepdims` to True or False to avoid this warning.\n",
      "  mode, _ = stats.mode(_y[neigh_ind, k], axis=1)\n"
     ]
    }
   ],
   "source": [
    "import numpy as np \n",
    "import pandas as pd\n",
    "from sklearn.neighbors import KNeighborsClassifier\n",
    "from sklearn.model_selection import train_test_split \n",
    "from sklearn import metrics\n",
    "names = ['sepal-length', 'sepal-width', 'petal-length', 'petal-width', 'Class']\n",
    "\n",
    "dataset = pd.read_csv(\"8-dataset.csv\", names=names)\n",
    "X = dataset.iloc[:, :-1] \n",
    "y = dataset.iloc[:, -1]\n",
    "print(X.head())\n",
    "Xtrain, Xtest, ytrain, ytest = train_test_split(X, y, test_size=0.10) \n",
    "classifier = KNeighborsClassifier(n_neighbors=5).fit(Xtrain, ytrain) \n",
    "ypred = classifier.predict(Xtest)\n",
    "\n",
    "i = 0\n",
    "print (\"\\n----------------------------------------------------------------\")\n",
    "print ('%-25s %-25s %-25s' % ('Original Label', 'Predicted Label', 'Correct/Wrong'))\n",
    "print (\"------------------------------------------------------------------\")\n",
    "for label in ytest:\n",
    "    print ('%-25s %-25s' % (label, ypred[i]), end=\"\")\n",
    "    if (label == ypred[i]):\n",
    "        print (' %-25s' % ('Correct'))\n",
    "    else:\n",
    "        print (' %-25s' % ('Wrong'))\n",
    "i = i + 1\n",
    "print (\"------------------------------------------------------------------\")\n",
    "print(\"\\nConfusion Matrix:\\n\",metrics.confusion_matrix(ytest, ypred)) \n",
    "print (\"------------------------------------------------------------------\")\n",
    "print(\"\\nClassification Report:\\n\",metrics.classification_report(ytest, ypred)) \n",
    "print (\"------------------------------------------------------------------\")\n",
    "print('Accuracy of the classifer is %0.2f' % metrics.accuracy_score(ytest,ypred))\n",
    "print (\"------------------------------------------------------------------\")"
   ]
  },
  {
   "cell_type": "code",
   "execution_count": null,
   "id": "1f71509c",
   "metadata": {},
   "outputs": [],
   "source": []
  }
 ],
 "metadata": {
  "kernelspec": {
   "display_name": "Python 3 (ipykernel)",
   "language": "python",
   "name": "python3"
  },
  "language_info": {
   "codemirror_mode": {
    "name": "ipython",
    "version": 3
   },
   "file_extension": ".py",
   "mimetype": "text/x-python",
   "name": "python",
   "nbconvert_exporter": "python",
   "pygments_lexer": "ipython3",
   "version": "3.9.13"
  }
 },
 "nbformat": 4,
 "nbformat_minor": 5
}
