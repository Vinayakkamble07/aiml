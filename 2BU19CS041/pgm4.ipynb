{
 "cells": [
  {
   "cell_type": "code",
   "execution_count": 5,
   "id": "aaef088b",
   "metadata": {},
   "outputs": [],
   "source": [
    "import numpy as np\n",
    "import pandas as pd\n",
    "def find_entropy(df):\n",
    "    Class = df.keys()[-1]\n",
    "    values = df[Class].unique()\n",
    "    entropy = 0\n",
    "    for value in values:\n",
    "        prob = df[Class].value_counts()[value]/len(df[Class])\n",
    "        entropy +=-prob * np.log2(prob)\n",
    "    return np.float(entropy)\n",
    "\n",
    "def find_entropy_attribute(df, attribute):\n",
    "    Class = df.keys()[-1]\n",
    "    target_values = df[Class].unique()\n",
    "    attribute_values = df[attribute].unique()\n",
    "    avg_entropy = 0\n",
    "    for value in attribute_values:\n",
    "        entropy = 0\n",
    "        for value1 in target_values:\n",
    "            num = len(df[attribute][df[attribute] == value][df[Class] == value1])\n",
    "            den = len(df[attribute][df[attribute] == value])\n",
    "            prob = num/den\n",
    "            entropy +=-prob * np.log2(prob + 0.000001)\n",
    "        avg_entropy += (den/len(df))*entropy\n",
    "    return np.float(avg_entropy)\n",
    "\n",
    "def find_winner(df):\n",
    "    IG = []\n",
    "    for key in df.keys()[:-1]:\n",
    "        IG.append(find_entropy(df) - find_entropy_attribute(df, key))\n",
    "    return df.keys()[:-1][np.argmax(IG)]\n",
    "\n",
    "def get_subtable(df, attribute, value):\n",
    "    return df[df[attribute] == value].reset_index(drop = True)\n",
    "\n",
    "def buildtree(df, tree = None):\n",
    "    node = find_winner(df)\n",
    "    attvalue = np.unique(df[node])\n",
    "    Class = df.keys()[-1]\n",
    "    if tree is None:\n",
    "        tree = {}\n",
    "        tree[node] = {}\n",
    "    for value in attvalue:\n",
    "        subtable = get_subtable(df,node,value)\n",
    "        Clvalue, counts = np.unique(subtable[Class], return_counts = True)\n",
    "        if len(counts) == 1:\n",
    "            tree[node][value] = Clvalue[0]\n",
    "        else:\n",
    "            tree[node][value] = buildtree(subtable)\n",
    "    return tree\n",
    "\n"
   ]
  },
  {
   "cell_type": "code",
   "execution_count": 6,
   "id": "28a24b4b",
   "metadata": {},
   "outputs": [
    {
     "name": "stdout",
     "output_type": "stream",
     "text": [
      "\n",
      " Given Play Tennis Data Set : \n",
      "\n",
      "      Outlook Temperature Humidity  Wind Play\n",
      "0      sunny         hot     high  weak   no\n",
      "1      sunny         hot     high  weak   no\n",
      "2   overcast         hot     high  weak   no\n",
      "3       rain         hot     high  weak   no\n",
      "4       rain         hot     high  weak   no\n",
      "5       rain         hot     high  weak   no\n",
      "6   overcast         hot     high  weak   no\n",
      "7      sunny         hot     high  weak   no\n",
      "8      sunny         hot     high  weak   no\n",
      "9       rain         hot     high  weak   no\n",
      "10     sunny         hot     high  weak   no\n",
      "11  overcast         hot     high  weak   no\n",
      "12  overcast         hot     high  weak   no\n",
      "13      rain         hot     high  weak   no\n"
     ]
    }
   ],
   "source": [
    "import pandas as pd\n",
    "#df = pd.read_csv('weather.csv')\n",
    "df = pd.read_csv('tennis.csv')\n",
    "print ( \"\\n Given Play Tennis Data Set : \\n\\n\",df)\n"
   ]
  },
  {
   "cell_type": "code",
   "execution_count": 7,
   "id": "0fa62434",
   "metadata": {},
   "outputs": [
    {
     "name": "stdout",
     "output_type": "stream",
     "text": [
      "{'Outlook': {'overcast': 'no', 'rain': 'no', 'sunny': 'no'}}\n"
     ]
    },
    {
     "name": "stderr",
     "output_type": "stream",
     "text": [
      "C:\\Users\\Asus\\AppData\\Local\\Temp\\ipykernel_1504\\4202659835.py:10: DeprecationWarning: `np.float` is a deprecated alias for the builtin `float`. To silence this warning, use `float` by itself. Doing this will not modify any behavior and is safe. If you specifically wanted the numpy scalar type, use `np.float64` here.\n",
      "Deprecated in NumPy 1.20; for more details and guidance: https://numpy.org/devdocs/release/1.20.0-notes.html#deprecations\n",
      "  return np.float(entropy)\n",
      "C:\\Users\\Asus\\AppData\\Local\\Temp\\ipykernel_1504\\4202659835.py:25: DeprecationWarning: `np.float` is a deprecated alias for the builtin `float`. To silence this warning, use `float` by itself. Doing this will not modify any behavior and is safe. If you specifically wanted the numpy scalar type, use `np.float64` here.\n",
      "Deprecated in NumPy 1.20; for more details and guidance: https://numpy.org/devdocs/release/1.20.0-notes.html#deprecations\n",
      "  return np.float(avg_entropy)\n",
      "C:\\Users\\Asus\\AppData\\Local\\Temp\\ipykernel_1504\\4202659835.py:10: DeprecationWarning: `np.float` is a deprecated alias for the builtin `float`. To silence this warning, use `float` by itself. Doing this will not modify any behavior and is safe. If you specifically wanted the numpy scalar type, use `np.float64` here.\n",
      "Deprecated in NumPy 1.20; for more details and guidance: https://numpy.org/devdocs/release/1.20.0-notes.html#deprecations\n",
      "  return np.float(entropy)\n",
      "C:\\Users\\Asus\\AppData\\Local\\Temp\\ipykernel_1504\\4202659835.py:25: DeprecationWarning: `np.float` is a deprecated alias for the builtin `float`. To silence this warning, use `float` by itself. Doing this will not modify any behavior and is safe. If you specifically wanted the numpy scalar type, use `np.float64` here.\n",
      "Deprecated in NumPy 1.20; for more details and guidance: https://numpy.org/devdocs/release/1.20.0-notes.html#deprecations\n",
      "  return np.float(avg_entropy)\n",
      "C:\\Users\\Asus\\AppData\\Local\\Temp\\ipykernel_1504\\4202659835.py:10: DeprecationWarning: `np.float` is a deprecated alias for the builtin `float`. To silence this warning, use `float` by itself. Doing this will not modify any behavior and is safe. If you specifically wanted the numpy scalar type, use `np.float64` here.\n",
      "Deprecated in NumPy 1.20; for more details and guidance: https://numpy.org/devdocs/release/1.20.0-notes.html#deprecations\n",
      "  return np.float(entropy)\n",
      "C:\\Users\\Asus\\AppData\\Local\\Temp\\ipykernel_1504\\4202659835.py:25: DeprecationWarning: `np.float` is a deprecated alias for the builtin `float`. To silence this warning, use `float` by itself. Doing this will not modify any behavior and is safe. If you specifically wanted the numpy scalar type, use `np.float64` here.\n",
      "Deprecated in NumPy 1.20; for more details and guidance: https://numpy.org/devdocs/release/1.20.0-notes.html#deprecations\n",
      "  return np.float(avg_entropy)\n",
      "C:\\Users\\Asus\\AppData\\Local\\Temp\\ipykernel_1504\\4202659835.py:10: DeprecationWarning: `np.float` is a deprecated alias for the builtin `float`. To silence this warning, use `float` by itself. Doing this will not modify any behavior and is safe. If you specifically wanted the numpy scalar type, use `np.float64` here.\n",
      "Deprecated in NumPy 1.20; for more details and guidance: https://numpy.org/devdocs/release/1.20.0-notes.html#deprecations\n",
      "  return np.float(entropy)\n",
      "C:\\Users\\Asus\\AppData\\Local\\Temp\\ipykernel_1504\\4202659835.py:25: DeprecationWarning: `np.float` is a deprecated alias for the builtin `float`. To silence this warning, use `float` by itself. Doing this will not modify any behavior and is safe. If you specifically wanted the numpy scalar type, use `np.float64` here.\n",
      "Deprecated in NumPy 1.20; for more details and guidance: https://numpy.org/devdocs/release/1.20.0-notes.html#deprecations\n",
      "  return np.float(avg_entropy)\n"
     ]
    }
   ],
   "source": [
    "tree = buildtree(df)\n",
    "import pprint\n",
    "pprint.pprint(tree)"
   ]
  },
  {
   "cell_type": "code",
   "execution_count": 13,
   "id": "9175eff4",
   "metadata": {},
   "outputs": [],
   "source": [
    "def func(test,tree, default=None):\n",
    "    attribute=next(iter(tree))\n",
    "    print(attribute)\n",
    "    if test[attribute] in tree[attribute].keys():\n",
    "        print(tree[attribute].keys())\n",
    "        print(test[attribute])\n",
    "        result=tree[attribute][test[attribute]]\n",
    "        if isinstance(result,dict):\n",
    "            return func(test,result)\n",
    "        else:\n",
    "            return result\n",
    "    else:\n",
    "        return default"
   ]
  },
  {
   "cell_type": "code",
   "execution_count": 14,
   "id": "f73532cb",
   "metadata": {},
   "outputs": [
    {
     "name": "stdout",
     "output_type": "stream",
     "text": [
      "Outlook\n",
      "dict_keys(['overcast', 'rain', 'sunny'])\n",
      "sunny\n",
      "no\n"
     ]
    }
   ],
   "source": [
    "#input 1\n",
    "test={'Outlook':'sunny','Temperature':'hot','Humidity':'high','High':'weak'}\n",
    "ans=func(test,tree)\n",
    "print(ans)\n"
   ]
  },
  {
   "cell_type": "code",
   "execution_count": null,
   "id": "69c4f8c9",
   "metadata": {},
   "outputs": [],
   "source": []
  }
 ],
 "metadata": {
  "kernelspec": {
   "display_name": "Python 3 (ipykernel)",
   "language": "python",
   "name": "python3"
  },
  "language_info": {
   "codemirror_mode": {
    "name": "ipython",
    "version": 3
   },
   "file_extension": ".py",
   "mimetype": "text/x-python",
   "name": "python",
   "nbconvert_exporter": "python",
   "pygments_lexer": "ipython3",
   "version": "3.9.13"
  }
 },
 "nbformat": 4,
 "nbformat_minor": 5
}
