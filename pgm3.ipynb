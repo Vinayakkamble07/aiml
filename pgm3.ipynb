{
 "cells": [
  {
   "cell_type": "code",
   "execution_count": 8,
   "id": "f1314891",
   "metadata": {},
   "outputs": [
    {
     "ename": "IndentationError",
     "evalue": "unindent does not match any outer indentation level (<tokenize>, line 32)",
     "output_type": "error",
     "traceback": [
      "\u001b[1;36m  File \u001b[1;32m\"<tokenize>\"\u001b[1;36m, line \u001b[1;32m32\u001b[0m\n\u001b[1;33m    else:\u001b[0m\n\u001b[1;37m    ^\u001b[0m\n\u001b[1;31mIndentationError\u001b[0m\u001b[1;31m:\u001b[0m unindent does not match any outer indentation level\n"
     ]
    }
   ],
   "source": [
    "import numpy as np \n",
    "import pandas as pd\n",
    "data = pd.read_csv('‪C:\\Users\\VINAYAK\\Downloads\\enjoysport.csv')\n",
    "concepts = np.array(data.iloc[:,0:-1])\n",
    "print(concepts) \n",
    "target = np.array(data.iloc[:,-1]) \n",
    "print(target)\n",
    "\n",
    "def learn(concepts, target): \n",
    "    specific_h = concepts[0].copy() \n",
    "    print(\"initialization of specific_h and general_h\") \n",
    "    print(specific_h) \n",
    "    print(\"length of specific\", len(specific_h))\n",
    "    general_h = [[\"?\" for i in range(len(specific_h))] for i in range(len(specific_h))] \n",
    "    print(general_h) \n",
    "    \n",
    "     for i, h in enumerate(concepts):\n",
    "        print(\"For Loop Starts\")\n",
    "        if target[i] == \"yes\":\n",
    "        print(\"If instance is Positive \")\n",
    "        for x in range(len(specific_h)): \n",
    "        if h[x]!= specific_h[x]: \n",
    "        specific_h[x] ='?' \n",
    "        general_h[x][x] ='?'\n",
    "\n",
    "         if target[i] == \"no\":\n",
    "            \n",
    "                print(\"If instance is Negative \")\n",
    "                for x in range(len(specific_h)): \n",
    "                     if h[x]!= specific_h[x]: \n",
    "                        general_h[x][x] = specific_h[x] \n",
    "                    else: \n",
    "                        general_h[x][x] = '?' \n",
    "        print(\" steps of Candidate Elimination Algorithm\",i+1) \n",
    "         print(specific_h) \n",
    "        print(general_h)\n",
    "        print(\"\\n\")\n",
    " \n",
    "     indices = [i for i, val in enumerate(general_h) if val == ['?', '?', '?', '?', '?', '?']] \n",
    "     for i in indices: \n",
    "            general_h.remove(['?', '?', '?', '?', '?', '?']) \n",
    "    return specific_h, general_h \n",
    "s_final, g_final = learn(concepts, target)\n",
    "print(\"Final Specific_h:\", s_final, sep=\"\\n\")\n",
    "print(\"Final General_h:\", g_final, sep=\"\\n\")"
   ]
  },
  {
   "cell_type": "code",
   "execution_count": null,
   "id": "1e69fc97",
   "metadata": {},
   "outputs": [],
   "source": []
  }
 ],
 "metadata": {
  "kernelspec": {
   "display_name": "Python 3",
   "language": "python",
   "name": "python3"
  },
  "language_info": {
   "codemirror_mode": {
    "name": "ipython",
    "version": 3
   },
   "file_extension": ".py",
   "mimetype": "text/x-python",
   "name": "python",
   "nbconvert_exporter": "python",
   "pygments_lexer": "ipython3",
   "version": "3.8.8"
  }
 },
 "nbformat": 4,
 "nbformat_minor": 5
}
